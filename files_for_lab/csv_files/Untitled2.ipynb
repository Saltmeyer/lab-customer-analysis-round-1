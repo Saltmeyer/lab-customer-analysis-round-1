{
 "cells": [
  {
   "cell_type": "code",
   "execution_count": 1,
   "id": "2d834830",
   "metadata": {},
   "outputs": [],
   "source": [
    "# Lab 1 Day 2\n",
    "import pandas as pd\n",
    "import numpy as np\n",
    "file1_df = pd.read_csv('file1.csv')\n",
    "file2_df = pd.read_csv('file2.csv')\n",
    "file3_df = pd.read_csv('file3.csv')"
   ]
  },
  {
   "cell_type": "code",
   "execution_count": 2,
   "id": "a77437d3",
   "metadata": {},
   "outputs": [
    {
     "data": {
      "text/plain": [
       "(4008, 11)"
      ]
     },
     "execution_count": 2,
     "metadata": {},
     "output_type": "execute_result"
    }
   ],
   "source": [
    "file1_df.shape"
   ]
  },
  {
   "cell_type": "code",
   "execution_count": 3,
   "id": "a7c96e8f",
   "metadata": {},
   "outputs": [
    {
     "data": {
      "text/plain": [
       "(996, 11)"
      ]
     },
     "execution_count": 3,
     "metadata": {},
     "output_type": "execute_result"
    }
   ],
   "source": [
    "file2_df.shape"
   ]
  },
  {
   "cell_type": "code",
   "execution_count": 4,
   "id": "ce82d999",
   "metadata": {},
   "outputs": [
    {
     "data": {
      "text/plain": [
       "(7070, 11)"
      ]
     },
     "execution_count": 4,
     "metadata": {},
     "output_type": "execute_result"
    }
   ],
   "source": [
    "file3_df.shape"
   ]
  },
  {
   "cell_type": "code",
   "execution_count": 14,
   "id": "fea3b025",
   "metadata": {},
   "outputs": [],
   "source": [
    "file2_df = file2_df.rename(columns={'ST':'State','GENDER':'Gender'})"
   ]
  },
  {
   "cell_type": "code",
   "execution_count": 18,
   "id": "29595c9d",
   "metadata": {},
   "outputs": [],
   "source": [
    "file1_df = file1_df.rename(columns={'ST':'State','GENDER':'Gender'})"
   ]
  },
  {
   "cell_type": "code",
   "execution_count": 24,
   "id": "4461b33a",
   "metadata": {},
   "outputs": [
    {
     "data": {
      "text/plain": [
       "Index(['Customer', 'State', 'Customer Lifetime Value', 'Education', 'Gender',\n",
       "       'Income', 'Monthly Premium Auto', 'Number of Open Complaints',\n",
       "       'Policy Type', 'Total Claim Amount', 'Vehicle Class'],\n",
       "      dtype='object')"
      ]
     },
     "metadata": {},
     "output_type": "display_data"
    }
   ],
   "source": [
    "display(file3_df.columns)"
   ]
  },
  {
   "cell_type": "code",
   "execution_count": 25,
   "id": "29fe856c",
   "metadata": {},
   "outputs": [
    {
     "data": {
      "text/plain": [
       "Index(['Customer', 'State', 'Customer Lifetime Value', 'Education', 'Gender',\n",
       "       'Income', 'Monthly Premium Auto', 'Number of Open Complaints',\n",
       "       'Policy Type', 'Total Claim Amount', 'Vehicle Class'],\n",
       "      dtype='object')"
      ]
     },
     "metadata": {},
     "output_type": "display_data"
    }
   ],
   "source": [
    "display(file1_df.columns)"
   ]
  },
  {
   "cell_type": "code",
   "execution_count": 26,
   "id": "892e4915",
   "metadata": {},
   "outputs": [
    {
     "data": {
      "text/plain": [
       "Index(['Customer', 'State', 'Customer Lifetime Value', 'Education', 'Gender',\n",
       "       'Income', 'Monthly Premium Auto', 'Number of Open Complaints',\n",
       "       'Policy Type', 'Total Claim Amount', 'Vehicle Class'],\n",
       "      dtype='object')"
      ]
     },
     "metadata": {},
     "output_type": "display_data"
    }
   ],
   "source": [
    "display(file2_df.columns)"
   ]
  },
  {
   "cell_type": "code",
   "execution_count": 22,
   "id": "e129a1b3",
   "metadata": {},
   "outputs": [],
   "source": [
    "file1_df = file1_df[['Customer', 'State', 'Customer Lifetime Value', 'Education', 'Gender','Income', 'Monthly Premium Auto', 'Number of Open Complaints','Policy Type', 'Total Claim Amount', 'Vehicle Class']] "
   ]
  },
  {
   "cell_type": "code",
   "execution_count": 23,
   "id": "2663196b",
   "metadata": {},
   "outputs": [],
   "source": [
    "file2_df = file2_df[['Customer', 'State', 'Customer Lifetime Value', 'Education', 'Gender','Income', 'Monthly Premium Auto', 'Number of Open Complaints','Policy Type', 'Total Claim Amount', 'Vehicle Class']]"
   ]
  },
  {
   "cell_type": "code",
   "execution_count": 27,
   "id": "05cc3cc3",
   "metadata": {},
   "outputs": [],
   "source": [
    "file_m = pd.concat([file1_df, file2_df, file3_df], axis=0)"
   ]
  },
  {
   "cell_type": "code",
   "execution_count": 30,
   "id": "1441264a",
   "metadata": {},
   "outputs": [
    {
     "data": {
      "text/plain": [
       "Index(['Customer', 'State', 'Customer Lifetime Value', 'Education', 'Gender',\n",
       "       'Income', 'Monthly Premium Auto', 'Number of Open Complaints',\n",
       "       'Policy Type', 'Total Claim Amount', 'Vehicle Class'],\n",
       "      dtype='object')"
      ]
     },
     "execution_count": 30,
     "metadata": {},
     "output_type": "execute_result"
    }
   ],
   "source": [
    "file_m.columns"
   ]
  },
  {
   "cell_type": "code",
   "execution_count": 38,
   "id": "ffb1ace6",
   "metadata": {},
   "outputs": [
    {
     "data": {
      "text/html": [
       "<div>\n",
       "<style scoped>\n",
       "    .dataframe tbody tr th:only-of-type {\n",
       "        vertical-align: middle;\n",
       "    }\n",
       "\n",
       "    .dataframe tbody tr th {\n",
       "        vertical-align: top;\n",
       "    }\n",
       "\n",
       "    .dataframe thead th {\n",
       "        text-align: right;\n",
       "    }\n",
       "</style>\n",
       "<table border=\"1\" class=\"dataframe\">\n",
       "  <thead>\n",
       "    <tr style=\"text-align: right;\">\n",
       "      <th></th>\n",
       "      <th>Customer</th>\n",
       "      <th>State</th>\n",
       "      <th>Customer Lifetime Value</th>\n",
       "      <th>Education</th>\n",
       "      <th>Gender</th>\n",
       "      <th>Income</th>\n",
       "      <th>Monthly Premium Auto</th>\n",
       "      <th>Number of Open Complaints</th>\n",
       "      <th>Policy Type</th>\n",
       "      <th>Total Claim Amount</th>\n",
       "      <th>Vehicle Class</th>\n",
       "    </tr>\n",
       "  </thead>\n",
       "  <tbody>\n",
       "    <tr>\n",
       "      <th>0</th>\n",
       "      <td>RB50392</td>\n",
       "      <td>Washington</td>\n",
       "      <td>NaN</td>\n",
       "      <td>Master</td>\n",
       "      <td>NaN</td>\n",
       "      <td>0.0</td>\n",
       "      <td>1000.0</td>\n",
       "      <td>1/0/00</td>\n",
       "      <td>Personal Auto</td>\n",
       "      <td>2.704934</td>\n",
       "      <td>Four-Door Car</td>\n",
       "    </tr>\n",
       "    <tr>\n",
       "      <th>1</th>\n",
       "      <td>QZ44356</td>\n",
       "      <td>Arizona</td>\n",
       "      <td>697953.59%</td>\n",
       "      <td>Bachelor</td>\n",
       "      <td>F</td>\n",
       "      <td>0.0</td>\n",
       "      <td>94.0</td>\n",
       "      <td>1/0/00</td>\n",
       "      <td>Personal Auto</td>\n",
       "      <td>1131.464935</td>\n",
       "      <td>Four-Door Car</td>\n",
       "    </tr>\n",
       "    <tr>\n",
       "      <th>2</th>\n",
       "      <td>AI49188</td>\n",
       "      <td>Nevada</td>\n",
       "      <td>1288743.17%</td>\n",
       "      <td>Bachelor</td>\n",
       "      <td>F</td>\n",
       "      <td>48767.0</td>\n",
       "      <td>108.0</td>\n",
       "      <td>1/0/00</td>\n",
       "      <td>Personal Auto</td>\n",
       "      <td>566.472247</td>\n",
       "      <td>Two-Door Car</td>\n",
       "    </tr>\n",
       "    <tr>\n",
       "      <th>3</th>\n",
       "      <td>WW63253</td>\n",
       "      <td>California</td>\n",
       "      <td>764586.18%</td>\n",
       "      <td>Bachelor</td>\n",
       "      <td>M</td>\n",
       "      <td>0.0</td>\n",
       "      <td>106.0</td>\n",
       "      <td>1/0/00</td>\n",
       "      <td>Corporate Auto</td>\n",
       "      <td>529.881344</td>\n",
       "      <td>SUV</td>\n",
       "    </tr>\n",
       "    <tr>\n",
       "      <th>4</th>\n",
       "      <td>GA49547</td>\n",
       "      <td>Washington</td>\n",
       "      <td>536307.65%</td>\n",
       "      <td>High School or Below</td>\n",
       "      <td>M</td>\n",
       "      <td>36357.0</td>\n",
       "      <td>68.0</td>\n",
       "      <td>1/0/00</td>\n",
       "      <td>Personal Auto</td>\n",
       "      <td>17.269323</td>\n",
       "      <td>Four-Door Car</td>\n",
       "    </tr>\n",
       "    <tr>\n",
       "      <th>...</th>\n",
       "      <td>...</td>\n",
       "      <td>...</td>\n",
       "      <td>...</td>\n",
       "      <td>...</td>\n",
       "      <td>...</td>\n",
       "      <td>...</td>\n",
       "      <td>...</td>\n",
       "      <td>...</td>\n",
       "      <td>...</td>\n",
       "      <td>...</td>\n",
       "      <td>...</td>\n",
       "    </tr>\n",
       "    <tr>\n",
       "      <th>7065</th>\n",
       "      <td>LA72316</td>\n",
       "      <td>California</td>\n",
       "      <td>23405.98798</td>\n",
       "      <td>Bachelor</td>\n",
       "      <td>M</td>\n",
       "      <td>71941.0</td>\n",
       "      <td>73.0</td>\n",
       "      <td>0</td>\n",
       "      <td>Personal Auto</td>\n",
       "      <td>198.234764</td>\n",
       "      <td>Four-Door Car</td>\n",
       "    </tr>\n",
       "    <tr>\n",
       "      <th>7066</th>\n",
       "      <td>PK87824</td>\n",
       "      <td>California</td>\n",
       "      <td>3096.511217</td>\n",
       "      <td>College</td>\n",
       "      <td>F</td>\n",
       "      <td>21604.0</td>\n",
       "      <td>79.0</td>\n",
       "      <td>0</td>\n",
       "      <td>Corporate Auto</td>\n",
       "      <td>379.200000</td>\n",
       "      <td>Four-Door Car</td>\n",
       "    </tr>\n",
       "    <tr>\n",
       "      <th>7067</th>\n",
       "      <td>TD14365</td>\n",
       "      <td>California</td>\n",
       "      <td>8163.890428</td>\n",
       "      <td>Bachelor</td>\n",
       "      <td>M</td>\n",
       "      <td>0.0</td>\n",
       "      <td>85.0</td>\n",
       "      <td>3</td>\n",
       "      <td>Corporate Auto</td>\n",
       "      <td>790.784983</td>\n",
       "      <td>Four-Door Car</td>\n",
       "    </tr>\n",
       "    <tr>\n",
       "      <th>7068</th>\n",
       "      <td>UP19263</td>\n",
       "      <td>California</td>\n",
       "      <td>7524.442436</td>\n",
       "      <td>College</td>\n",
       "      <td>M</td>\n",
       "      <td>21941.0</td>\n",
       "      <td>96.0</td>\n",
       "      <td>0</td>\n",
       "      <td>Personal Auto</td>\n",
       "      <td>691.200000</td>\n",
       "      <td>Four-Door Car</td>\n",
       "    </tr>\n",
       "    <tr>\n",
       "      <th>7069</th>\n",
       "      <td>Y167826</td>\n",
       "      <td>California</td>\n",
       "      <td>2611.836866</td>\n",
       "      <td>College</td>\n",
       "      <td>M</td>\n",
       "      <td>0.0</td>\n",
       "      <td>77.0</td>\n",
       "      <td>0</td>\n",
       "      <td>Corporate Auto</td>\n",
       "      <td>369.600000</td>\n",
       "      <td>Two-Door Car</td>\n",
       "    </tr>\n",
       "  </tbody>\n",
       "</table>\n",
       "<p>12074 rows × 11 columns</p>\n",
       "</div>"
      ],
      "text/plain": [
       "     Customer       State Customer Lifetime Value             Education  \\\n",
       "0     RB50392  Washington                     NaN                Master   \n",
       "1     QZ44356     Arizona              697953.59%              Bachelor   \n",
       "2     AI49188      Nevada             1288743.17%              Bachelor   \n",
       "3     WW63253  California              764586.18%              Bachelor   \n",
       "4     GA49547  Washington              536307.65%  High School or Below   \n",
       "...       ...         ...                     ...                   ...   \n",
       "7065  LA72316  California             23405.98798              Bachelor   \n",
       "7066  PK87824  California             3096.511217               College   \n",
       "7067  TD14365  California             8163.890428              Bachelor   \n",
       "7068  UP19263  California             7524.442436               College   \n",
       "7069  Y167826  California             2611.836866               College   \n",
       "\n",
       "     Gender   Income  Monthly Premium Auto Number of Open Complaints  \\\n",
       "0       NaN      0.0                1000.0                    1/0/00   \n",
       "1         F      0.0                  94.0                    1/0/00   \n",
       "2         F  48767.0                 108.0                    1/0/00   \n",
       "3         M      0.0                 106.0                    1/0/00   \n",
       "4         M  36357.0                  68.0                    1/0/00   \n",
       "...     ...      ...                   ...                       ...   \n",
       "7065      M  71941.0                  73.0                         0   \n",
       "7066      F  21604.0                  79.0                         0   \n",
       "7067      M      0.0                  85.0                         3   \n",
       "7068      M  21941.0                  96.0                         0   \n",
       "7069      M      0.0                  77.0                         0   \n",
       "\n",
       "         Policy Type  Total Claim Amount  Vehicle Class  \n",
       "0      Personal Auto            2.704934  Four-Door Car  \n",
       "1      Personal Auto         1131.464935  Four-Door Car  \n",
       "2      Personal Auto          566.472247   Two-Door Car  \n",
       "3     Corporate Auto          529.881344            SUV  \n",
       "4      Personal Auto           17.269323  Four-Door Car  \n",
       "...              ...                 ...            ...  \n",
       "7065   Personal Auto          198.234764  Four-Door Car  \n",
       "7066  Corporate Auto          379.200000  Four-Door Car  \n",
       "7067  Corporate Auto          790.784983  Four-Door Car  \n",
       "7068   Personal Auto          691.200000  Four-Door Car  \n",
       "7069  Corporate Auto          369.600000   Two-Door Car  \n",
       "\n",
       "[12074 rows x 11 columns]"
      ]
     },
     "metadata": {},
     "output_type": "display_data"
    }
   ],
   "source": [
    "display(file_m)"
   ]
  },
  {
   "cell_type": "code",
   "execution_count": null,
   "id": "882bb2d9",
   "metadata": {},
   "outputs": [],
   "source": []
  },
  {
   "cell_type": "code",
   "execution_count": null,
   "id": "b0141449",
   "metadata": {},
   "outputs": [],
   "source": []
  },
  {
   "cell_type": "code",
   "execution_count": null,
   "id": "266ab214",
   "metadata": {},
   "outputs": [],
   "source": []
  },
  {
   "cell_type": "code",
   "execution_count": null,
   "id": "3b18dbe0",
   "metadata": {},
   "outputs": [],
   "source": []
  }
 ],
 "metadata": {
  "kernelspec": {
   "display_name": "Python 3",
   "language": "python",
   "name": "python3"
  },
  "language_info": {
   "codemirror_mode": {
    "name": "ipython",
    "version": 3
   },
   "file_extension": ".py",
   "mimetype": "text/x-python",
   "name": "python",
   "nbconvert_exporter": "python",
   "pygments_lexer": "ipython3",
   "version": "3.8.8"
  }
 },
 "nbformat": 4,
 "nbformat_minor": 5
}
